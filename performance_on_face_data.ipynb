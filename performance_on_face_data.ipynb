{
 "cells": [
  {
   "cell_type": "markdown",
   "metadata": {},
   "source": [
    "Notebook which focuses on the facial dataset and the performance comparison of algorithms on it"
   ]
  },
  {
   "cell_type": "code",
   "execution_count": null,
   "metadata": {},
   "outputs": [],
   "source": [
    "from IPython.core.display import display, HTML\n",
    "display(HTML('<style>.container {width:100% !important;}</style>'))"
   ]
  },
  {
   "cell_type": "code",
   "execution_count": null,
   "metadata": {},
   "outputs": [],
   "source": [
    "%matplotlib notebook\n",
    "import matplotlib.pyplot as plt \n",
    "import numpy as np\n",
    "import torch\n",
    "\n",
    "import nmf.mult\n",
    "import nmf.pgrad\n",
    "import nmf.nesterov\n",
    "import nmf.bayes\n",
    "\n",
    "import nmf_torch.mult\n",
    "import nmf_torch.pgrad\n",
    "import nmf_torch.nesterov\n",
    "import nmf_torch.norms\n",
    "\n",
    "import matplotlib\n",
    "import pickle\n",
    "\n",
    "from theory.represent import rescale_WH\n",
    "\n",
    "from read_data.reading import read_face_images, images_matrix_grid,\\\n",
    "                                roll_images, unroll_images \n",
    "\n",
    "from performance.performance_eval_func import get_random_lowrank_matrix, get_time_ratio,\\\n",
    "                              compare_performance, plot_performance_dict,\\\n",
    "                              torch_algo_wrapper, plot_errors_dict,\\\n",
    "                              plot_ratios_gpu_algo, plot_ratios_cpu_gpu, plot_ratios_cpu_algo,\\\n",
    "                              plot_differences_gpu_algo, plot_differences_cpu_gpu, plot_differences_cpu_algo"
   ]
  },
  {
   "cell_type": "code",
   "execution_count": null,
   "metadata": {},
   "outputs": [],
   "source": []
  },
  {
   "cell_type": "code",
   "execution_count": null,
   "metadata": {},
   "outputs": [],
   "source": [
    "image_data = read_face_images(\"data/att_faces/images\").astype(float)"
   ]
  },
  {
   "cell_type": "code",
   "execution_count": null,
   "metadata": {},
   "outputs": [],
   "source": [
    "print(image_data[0].shape, \"{:.2f}\".format(image_data.nbytes / 2**10), \n",
    "          \"{:.2f}\".format(image_data.nbytes / 2**20))"
   ]
  },
  {
   "cell_type": "code",
   "execution_count": null,
   "metadata": {},
   "outputs": [],
   "source": []
  },
  {
   "cell_type": "code",
   "execution_count": null,
   "metadata": {},
   "outputs": [],
   "source": [
    "grid = images_matrix_grid(image_data, (16, 25))\n",
    "plt.imshow(grid, cmap=\"gray\")"
   ]
  },
  {
   "cell_type": "code",
   "execution_count": null,
   "metadata": {},
   "outputs": [],
   "source": [
    "unrolled_image_data, ori_shape = unroll_images(image_data)"
   ]
  },
  {
   "cell_type": "code",
   "execution_count": null,
   "metadata": {},
   "outputs": [],
   "source": [
    "unrolled_image_data.shape"
   ]
  },
  {
   "cell_type": "code",
   "execution_count": null,
   "metadata": {},
   "outputs": [],
   "source": [
    "algo_dict_to_test = {\n",
    "    \"mult\": nmf.mult.factorise_Fnorm,\n",
    "    \"pgrad\": nmf.pgrad.factorise_Fnorm_subproblems,\n",
    "    \"nesterov\": nmf.nesterov.factorise_Fnorm,\n",
    "\n",
    "    \"mult_torch\": torch_algo_wrapper(nmf_torch.mult.factorise_Fnorm, \n",
    "                                     device=\"cuda\"),\n",
    "    \"pgrad_torch\": torch_algo_wrapper(nmf_torch.pgrad.factorise_Fnorm_subproblems, \n",
    "                                      device=\"cuda\"),\n",
    "    \"nesterov_torch\": torch_algo_wrapper(nmf_torch.nesterov.factorise_Fnorm, \n",
    "                                        device=\"cuda\")\n",
    "}"
   ]
  },
  {
   "cell_type": "code",
   "execution_count": null,
   "metadata": {},
   "outputs": [],
   "source": [
    "f, ax = plt.subplots()\n",
    "plot_dict(errors_result, ax, log=False)"
   ]
  },
  {
   "cell_type": "code",
   "execution_count": null,
   "metadata": {},
   "outputs": [],
   "source": []
  },
  {
   "cell_type": "code",
   "execution_count": null,
   "metadata": {},
   "outputs": [],
   "source": [
    "errors_dict = pickle.load(open(\"faces_data_errors_dict.pkl\", \"rb\"))"
   ]
  },
  {
   "cell_type": "code",
   "execution_count": null,
   "metadata": {},
   "outputs": [],
   "source": [
    "inner_dim = 25\n",
    "\n",
    "shape = unrolled_image_data.shape\n",
    "W_init = np.random.rand(shape[0], inner_dim)\n",
    "H_init = np.random.rand(inner_dim, shape[1])"
   ]
  },
  {
   "cell_type": "code",
   "execution_count": null,
   "metadata": {},
   "outputs": [],
   "source": [
    "errors_dict = compare_performance(unrolled_image_data, \n",
    "                                      inner_dim, time_limit=100,\n",
    "                                      W_init=W_init, H_init=H_init, \n",
    "                                      algo_dict_to_test=algo_dict_to_test)"
   ]
  },
  {
   "cell_type": "code",
   "execution_count": null,
   "metadata": {},
   "outputs": [],
   "source": [
    "pickle.dump(errors_dict, open(\"faces_data_errors_dict.pkl\", \"wb\"))"
   ]
  },
  {
   "cell_type": "code",
   "execution_count": null,
   "metadata": {},
   "outputs": [],
   "source": []
  },
  {
   "cell_type": "markdown",
   "metadata": {},
   "source": [
    "# Time ratio graphs"
   ]
  },
  {
   "cell_type": "code",
   "execution_count": null,
   "metadata": {},
   "outputs": [],
   "source": [
    "gridspec_kw = dict(wspace=0.4, hspace=0.5,\n",
    "                    top=0.85,\n",
    "                    bottom=0.1,\n",
    "                    left=0.1, right=0.95)"
   ]
  },
  {
   "cell_type": "code",
   "execution_count": null,
   "metadata": {},
   "outputs": [],
   "source": [
    "shape = unrolled_image_data.shape\n",
    "nmbytes = unrolled_image_data.nbytes / 2**20\n",
    "inner_dim = 25"
   ]
  },
  {
   "cell_type": "code",
   "execution_count": null,
   "metadata": {},
   "outputs": [],
   "source": [
    "shape = (400, 10304)\n",
    "nmbytes = 31.45\n",
    "inner_dim = 25"
   ]
  },
  {
   "cell_type": "code",
   "execution_count": null,
   "metadata": {},
   "outputs": [],
   "source": []
  },
  {
   "cell_type": "code",
   "execution_count": null,
   "metadata": {},
   "outputs": [],
   "source": [
    "font = {'family' : 'normal',\n",
    "        'weight' : 'normal',\n",
    "        'size'   : 14}\n",
    "\n",
    "matplotlib.rc('font', **font)"
   ]
  },
  {
   "cell_type": "code",
   "execution_count": null,
   "metadata": {
    "scrolled": false
   },
   "outputs": [],
   "source": [
    "f, axes = plt.subplots(2, 2, figsize=(10, 10), gridspec_kw=gridspec_kw)\n",
    "\n",
    "\n",
    "f.suptitle(\"Facial image data represdented by {0} matrix, {2:.2f} MB \\n Factorization of size {1}\".format(shape, inner_dim,\n",
    "                                                                       nmbytes))\n",
    "\n",
    "\n",
    "plot_errors_dict(errors_dict, axes[0, 0], log=True, title=\"Cost function\", x_lbl=\"time [s]\")\n",
    "plot_ratios_cpu_gpu(errors_dict, axes[0, 1])\n",
    "plot_ratios_gpu_algo(errors_dict, axes[1, 0:], selected_algs=[\"mult_torch\", \"pgrad_torch\", \"nesterov_torch\"])\n",
    "\n",
    "axes[0, 1].set_title(\"CPU / GPU comparison\")\n",
    "axes[1, 0].set_title(\"multiplicative / gradient\\nalgorithms comparison\")\n",
    "axes[1, 1].set_title(\"Nesterov / projected\\n gradient algorithms comparison\")\n"
   ]
  },
  {
   "cell_type": "code",
   "execution_count": null,
   "metadata": {},
   "outputs": [],
   "source": []
  },
  {
   "cell_type": "code",
   "execution_count": null,
   "metadata": {},
   "outputs": [],
   "source": [
    "nesterov = torch_algo_wrapper(nmf_torch.nesterov.factorise_Fnorm, device=\"cuda\")\n",
    "W, H = nesterov(V=unrolled_image_data, inner_dim=25, time_limit=40, max_steps=np.inf)"
   ]
  },
  {
   "cell_type": "code",
   "execution_count": null,
   "metadata": {},
   "outputs": [],
   "source": [
    "W, H = rescale_WH(W, H)"
   ]
  },
  {
   "cell_type": "code",
   "execution_count": null,
   "metadata": {},
   "outputs": [],
   "source": [
    "basis = roll_images(H, ori_shape)\n",
    "\n",
    "f, axs = plt.subplots(2, 13, gridspec_kw=dict(hspace=0.01, wspace=0.05))\n",
    "axs = axs.ravel()\n",
    "for ax in axs:\n",
    "    ax.axis('off')\n",
    "\n",
    "f.suptitle(\"Basis\")\n",
    "\n",
    "for i in range(25):\n",
    "    ax = axs[i]\n",
    "    ax.imshow(basis[i], cmap=\"gray\"); "
   ]
  },
  {
   "cell_type": "code",
   "execution_count": null,
   "metadata": {},
   "outputs": [],
   "source": [
    "f, [ax1, ax2] = plt.subplots(ncols=2, sharex=True, sharey=True)\n",
    "\n",
    "approx_unrolled_image_data = W @ H\n",
    "approx_image_data = roll_images(approx_unrolled_image_data, ori_shape)\n",
    "grid = images_matrix_grid(approx_image_data, (25, 16))\n",
    "ax1.imshow(grid, cmap=\"gray\"); ax1.set_title(\"Approximated\")\n",
    "grid = images_matrix_grid(image_data, (25, 16))\n",
    "ax2.imshow(grid, cmap=\"gray\"); ax2.set_title(\"Original\")\n",
    "\n",
    "ax1.axis(\"off\")\n",
    "ax2.axis(\"off\")"
   ]
  },
  {
   "cell_type": "code",
   "execution_count": null,
   "metadata": {},
   "outputs": [],
   "source": []
  },
  {
   "cell_type": "code",
   "execution_count": null,
   "metadata": {},
   "outputs": [],
   "source": []
  },
  {
   "cell_type": "markdown",
   "metadata": {},
   "source": [
    "# Problem with Bayesian nonnegative matrix factorization"
   ]
  },
  {
   "cell_type": "code",
   "execution_count": null,
   "metadata": {},
   "outputs": [],
   "source": [
    "W, H, errors_t = torch_algo_wrapper(nmf_torch.nesterov.factorise_Fnorm)(\n",
    "                        V=unrolled_image_data,\n",
    "                        inner_dim=25, \n",
    "                        max_steps=8000,\n",
    "                        time_limit=5,\n",
    "                        record_errors=True)"
   ]
  },
  {
   "cell_type": "code",
   "execution_count": null,
   "metadata": {},
   "outputs": [],
   "source": [
    "W, H, errors = nmf.bayes.factorise_ICM(unrolled_image_data, 25, \n",
    "                                       max_steps=80000, time_limit=60, record_errors=True)"
   ]
  },
  {
   "cell_type": "code",
   "execution_count": null,
   "metadata": {},
   "outputs": [],
   "source": [
    "image_components = roll_images(H, ori_shape)\n",
    "grid = images_matrix_grid(image_components, (5, 5))\n",
    "f, ax = plt.subplots()\n",
    "ax.imshow(grid, cmap=\"gray\")\n",
    "ax.set_title(\"Image components\")"
   ]
  },
  {
   "cell_type": "markdown",
   "metadata": {},
   "source": [
    "The above image demontrates the lack of robustness of the bayesian nonnegative matrix factorisation algorithm"
   ]
  },
  {
   "cell_type": "code",
   "execution_count": null,
   "metadata": {},
   "outputs": [],
   "source": []
  }
 ],
 "metadata": {
  "kernelspec": {
   "display_name": "Python 3",
   "language": "python",
   "name": "python3"
  },
  "language_info": {
   "codemirror_mode": {
    "name": "ipython",
    "version": 3
   },
   "file_extension": ".py",
   "mimetype": "text/x-python",
   "name": "python",
   "nbconvert_exporter": "python",
   "pygments_lexer": "ipython3",
   "version": "3.6.3"
  }
 },
 "nbformat": 4,
 "nbformat_minor": 2
}
