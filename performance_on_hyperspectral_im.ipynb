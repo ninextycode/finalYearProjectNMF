{
 "cells": [
  {
   "cell_type": "markdown",
   "metadata": {},
   "source": [
    "Notebook which focuses on the hyperspectral images and the performance comparison of algorithms on it"
   ]
  },
  {
   "cell_type": "code",
   "execution_count": null,
   "metadata": {},
   "outputs": [],
   "source": [
    "from IPython.core.display import display, HTML\n",
    "display(HTML('<style>.container {width:100% !important;}</style>'))"
   ]
  },
  {
   "cell_type": "code",
   "execution_count": null,
   "metadata": {},
   "outputs": [],
   "source": [
    "%matplotlib notebook\n",
    "import matplotlib.pyplot as plt \n",
    "import numpy as np\n",
    "import torch\n",
    "\n",
    "import nmf.mult\n",
    "import nmf.pgrad\n",
    "import nmf.nesterov\n",
    "\n",
    "import nmf_torch.mult\n",
    "import nmf_torch.pgrad\n",
    "import nmf_torch.nesterov\n",
    "import nmf_torch.norms\n",
    "\n",
    "import matplotlib\n",
    "import pickle\n",
    "\n",
    "from theory.represent import rescale_WH\n",
    "\n",
    "from read_data.reading import read_indian_pines, images_matrix_grid,\\\n",
    "                                roll_images, unroll_images \n",
    "\n",
    "from performance.performance_eval_func import get_random_lowrank_matrix, get_time_ratio,\\\n",
    "                      compare_performance, plot_errors_dict,\\\n",
    "                      torch_algo_wrapper,\\\n",
    "                      plot_ratios_gpu_algo, plot_ratios_cpu_gpu, plot_ratios_cpu_algo,\\\n",
    "                      errors_at_time_t_over_inner_dim\n",
    "                                                "
   ]
  },
  {
   "cell_type": "code",
   "execution_count": null,
   "metadata": {},
   "outputs": [],
   "source": [
    "from matplotlib.gridspec import GridSpec\n",
    "from matplotlib.image import AxesImage\n",
    "import matplotlib.widgets as widgets\n",
    "\n",
    "\n",
    "class InteractiveLandPlot:\n",
    "    def __init__(self, gt_data, H, ori_shape):\n",
    "        gs = GridSpec(2, 4, width_ratios=[2, 10, 10, 2], height_ratios=[10, 1])\n",
    "\n",
    "        self.maps_fig = plt.figure(figsize=(5, 4))\n",
    "        self.maps_ax = plt.subplot(gs[0, 2:])\n",
    "        self.btn_less_ax = plt.subplot(gs[1, 0])\n",
    "        self.slider_ax = plt.subplot(gs[1, 1:3])\n",
    "        self.btn_more_ax = plt.subplot(gs[1, 3])\n",
    "        self.maps_ax.set_title(\"Where the ith type appears\")\n",
    "\n",
    "        self.gt_ax = plt.subplot(gs[0, :2], sharex=self.maps_ax, \n",
    "                                  sharey=self.maps_ax)\n",
    "         \n",
    "        self.gt_ax.imshow(gt_data, cmap=\"nipy_spectral\")\n",
    "        self.gt_ax.set_title(\"Ground truth\")      \n",
    "            \n",
    "        self.maps = roll_images(H, ori_shape)\n",
    "\n",
    "        self.slider = widgets.Slider(self.slider_ax,\n",
    "                                     label=\"\",\n",
    "                                     valmin=0,\n",
    "                                     valmax=len(self.maps) - 1,\n",
    "                                     valfmt='%0.0f',\n",
    "                                     valstep=1)\n",
    "        self.slider.on_changed(self.on_slider_move)\n",
    "\n",
    "        self.btn_less = widgets.Button(self.btn_less_ax, \"<<\")\n",
    "        self.btn_less.on_clicked(lambda e: self.set_slider_val(self.slider.val - 1))\n",
    "\n",
    "        self.btn_more = widgets.Button(self.btn_more_ax, \">>\")\n",
    "        self.btn_more.on_clicked(lambda e: self.set_slider_val(self.slider.val + 1))\n",
    "        \n",
    "        self.on_slider_move(0)\n",
    "\n",
    "    def set_slider_val(self, val):\n",
    "        val = np.clip(val, self.slider.valmin, self.slider.valmax)\n",
    "        self.slider.set_val(val)\n",
    "\n",
    "    def on_slider_move(self, val):\n",
    "        self.plot_ith_term(int(val))\n",
    "\n",
    "    def plot_ith_term(self, i):\n",
    "        for artist in self.maps_ax.get_children():\n",
    "            if isinstance(artist, AxesImage): artist.remove()\n",
    "\n",
    "        self.maps_ax.imshow(self.maps[i], zorder=0)\n",
    "        self.maps_fig.canvas.draw()"
   ]
  },
  {
   "cell_type": "code",
   "execution_count": null,
   "metadata": {},
   "outputs": [],
   "source": [
    "algo_dict_to_test = {\n",
    "    \"mult\": nmf.mult.factorize_Fnorm,\n",
    "    \"pgrad\": nmf.pgrad.factorize_Fnorm_subproblems,\n",
    "    \"nesterov\": nmf.nesterov.factorize_Fnorm,\n",
    "\n",
    "    \"mult_torch\": torch_algo_wrapper(nmf_torch.mult.factorize_Fnorm, \n",
    "                                     device=\"cuda\"),\n",
    "    \"pgrad_torch\": torch_algo_wrapper(nmf_torch.pgrad.factorize_Fnorm_subproblems, \n",
    "                                      device=\"cuda\"),\n",
    "    \"nesterov_torch\": torch_algo_wrapper(nmf_torch.nesterov.factorize_Fnorm, \n",
    "                                        device=\"cuda\")\n",
    "}"
   ]
  },
  {
   "cell_type": "code",
   "execution_count": null,
   "metadata": {},
   "outputs": [],
   "source": [
    "indian_pines_data = read_indian_pines(\"data/indian_pines/images/\")"
   ]
  },
  {
   "cell_type": "code",
   "execution_count": null,
   "metadata": {},
   "outputs": [],
   "source": [
    "indian_pines_data"
   ]
  },
  {
   "cell_type": "code",
   "execution_count": null,
   "metadata": {},
   "outputs": [],
   "source": [
    "site3_im = indian_pines_data[\"site3_im\"]\n",
    "ns_line_im = indian_pines_data[\"ns_line_im\"]\n",
    "site3_gt_im = indian_pines_data[\"site3_gt_im\"]\n",
    "ns_line_gt_im = indian_pines_data[\"ns_line_gt_im\"]\n",
    "\n",
    "plt.figure()\n",
    "plt.subplot(121)\n",
    "plt.imshow(ns_line_gt_im, cmap=\"nipy_spectral\")\n",
    "plt.subplot(122)\n",
    "plt.imshow(site3_gt_im, cmap=\"nipy_spectral\")"
   ]
  },
  {
   "cell_type": "code",
   "execution_count": null,
   "metadata": {},
   "outputs": [],
   "source": [
    "site3_unrolled_data, site3_ori_shape = unroll_images(site3_im)\n",
    "ns_line_unrolled_data, ns_line_ori_shape = unroll_images(ns_line_im)"
   ]
  },
  {
   "cell_type": "code",
   "execution_count": null,
   "metadata": {},
   "outputs": [],
   "source": [
    "site3_unrolled_data.nbytes / 2**20"
   ]
  },
  {
   "cell_type": "code",
   "execution_count": null,
   "metadata": {},
   "outputs": [],
   "source": [
    "print(len(set(site3_gt_im.ravel())))\n",
    "print(len(set(ns_line_gt_im.ravel())))"
   ]
  },
  {
   "cell_type": "code",
   "execution_count": null,
   "metadata": {},
   "outputs": [],
   "source": []
  },
  {
   "cell_type": "code",
   "execution_count": null,
   "metadata": {},
   "outputs": [],
   "source": [
    "InteractiveLandPlot(site3_gt_im, site3_unrolled_data, site3_ori_shape)"
   ]
  },
  {
   "cell_type": "code",
   "execution_count": null,
   "metadata": {},
   "outputs": [],
   "source": []
  },
  {
   "cell_type": "markdown",
   "metadata": {},
   "source": [
    "# Site 3 (smaller image)"
   ]
  },
  {
   "cell_type": "code",
   "execution_count": null,
   "metadata": {},
   "outputs": [],
   "source": [
    "site3_errors = pickle.load(open(\"site3_data_errors_dict.pkl\",\"rb\"))"
   ]
  },
  {
   "cell_type": "code",
   "execution_count": null,
   "metadata": {},
   "outputs": [],
   "source": [
    "W_init = np.random.rand(shape[0], inner_dim)\n",
    "H_init = np.random.rand(inner_dim, shape[1])\n",
    "\n",
    "site3_errors = compare_performance(V=site3_unrolled_data, \n",
    "                                  inner_dim=inner_dim, time_limit=240,\n",
    "                                  W_init=W_init, H_init=H_init, \n",
    "                                  algo_dict_to_test=algo_dict_to_test)"
   ]
  },
  {
   "cell_type": "code",
   "execution_count": null,
   "metadata": {},
   "outputs": [],
   "source": [
    "pickle.dump(site3_errors,  open(\"site3_data_errors_dict.pkl\",\"wb\"))"
   ]
  },
  {
   "cell_type": "code",
   "execution_count": null,
   "metadata": {},
   "outputs": [],
   "source": []
  },
  {
   "cell_type": "code",
   "execution_count": null,
   "metadata": {},
   "outputs": [],
   "source": []
  },
  {
   "cell_type": "code",
   "execution_count": null,
   "metadata": {},
   "outputs": [],
   "source": [
    "gridspec_kw = dict(wspace=0.4, hspace=0.5,\n",
    "                    top=0.85,\n",
    "                    bottom=0.1,\n",
    "                    left=0.1, right=0.95)"
   ]
  },
  {
   "cell_type": "code",
   "execution_count": null,
   "metadata": {},
   "outputs": [],
   "source": [
    "shape = (220, 21025) \n",
    "inner_dim = 25\n",
    "nmbytes = 35.29"
   ]
  },
  {
   "cell_type": "code",
   "execution_count": null,
   "metadata": {},
   "outputs": [],
   "source": [
    "shape = site3_unrolled_data.shape\n",
    "inner_dim = 25\n",
    "nmbytes = site3_unrolled_data.nmbytes / 2**20"
   ]
  },
  {
   "cell_type": "code",
   "execution_count": null,
   "metadata": {},
   "outputs": [],
   "source": []
  },
  {
   "cell_type": "code",
   "execution_count": null,
   "metadata": {},
   "outputs": [],
   "source": [
    "font = {'family' : 'normal',\n",
    "        'weight' : 'normal',\n",
    "        'size'   : 14}\n",
    "\n",
    "matplotlib.rc('font', **font)"
   ]
  },
  {
   "cell_type": "code",
   "execution_count": null,
   "metadata": {
    "scrolled": false
   },
   "outputs": [],
   "source": [
    "f, axes = plt.subplots(2, 2, figsize=(10, 10), \n",
    "                       gridspec_kw=gridspec_kw)\n",
    "\n",
    "\n",
    "\n",
    "f.suptitle(\"Hyperspectral image data represdented by {0} matrix, {2:.2f} MB \\n Factorization of size {1}\".format(shape, inner_dim,\n",
    "                                                                       nmbytes))\n",
    "\n",
    "\n",
    "plot_errors_dict(site3_errors, axes[0, 0], log=True, title=\"Cost function\", x_lbl=\"time [s]\")\n",
    "plot_ratios_cpu_gpu(site3_errors, axes[0, 1])\n",
    "plot_ratios_gpu_algo(site3_errors, axes[1, 0:], selected_algs=[\"mult_torch\", \"pgrad_torch\", \"nesterov_torch\"])\n",
    "\n",
    "axes[0, 1].set_title(\"CPU / GPU comparison\")\n",
    "axes[1, 1].set_title(\"Nesterov / projected\\n gradient algorithms comparison\")"
   ]
  },
  {
   "cell_type": "code",
   "execution_count": null,
   "metadata": {},
   "outputs": [],
   "source": []
  },
  {
   "cell_type": "code",
   "execution_count": null,
   "metadata": {},
   "outputs": [],
   "source": [
    "W_site3, H_site3 = torch_algo_wrapper(nmf_torch.nesterov.factorize_Fnorm)(\n",
    "    V=site3_unrolled_data, inner_dim=25, \n",
    "    time_limit=60, epsilon=1e-6, max_steps=10000)"
   ]
  },
  {
   "cell_type": "code",
   "execution_count": null,
   "metadata": {},
   "outputs": [],
   "source": [
    "W_site3, H_site3 = rescale_WH(W_site3, H_site3)"
   ]
  },
  {
   "cell_type": "code",
   "execution_count": null,
   "metadata": {},
   "outputs": [],
   "source": [
    "InteractiveLandPlot(site3_gt_im, H_site3, site3_ori_shape)"
   ]
  },
  {
   "cell_type": "code",
   "execution_count": null,
   "metadata": {},
   "outputs": [],
   "source": [
    "site3_results = roll_images(H_site3, site3_ori_shape)"
   ]
  },
  {
   "cell_type": "code",
   "execution_count": null,
   "metadata": {
    "scrolled": false
   },
   "outputs": [],
   "source": [
    "f, axs = plt.subplots(5, 5, gridspec_kw=dict(wspace=0.1))\n",
    "    \n",
    "for i in range(25):\n",
    "    ax = axs[i % 5, i // 5]\n",
    "    ax.imshow(site3_results[i], cmap=\"gray\"); \n",
    "    ax.axis('off'); \n",
    "    ax.set_title(i)"
   ]
  },
  {
   "cell_type": "code",
   "execution_count": null,
   "metadata": {},
   "outputs": [],
   "source": [
    "l = [0, 1, 2, 7, 17, 22]\n",
    "f, axs = plt.subplots(2, 3, gridspec_kw=dict(wspace=0))\n",
    "axs = axs.ravel()\n",
    "for i, idx in enumerate(l):\n",
    "    ax = axs[i]\n",
    "    ax.imshow(site3_results[idx], cmap=\"gray\"); \n",
    "    ax.axis('off'); \n",
    "    ax.set_title(idx)"
   ]
  },
  {
   "cell_type": "markdown",
   "metadata": {},
   "source": [
    "# N-S Line (larger image)"
   ]
  },
  {
   "cell_type": "code",
   "execution_count": null,
   "metadata": {},
   "outputs": [],
   "source": [
    "ns_line_errors = pickle.load(open(\"ns_line_data_errors_dict.pkl\",\"rb\"))"
   ]
  },
  {
   "cell_type": "code",
   "execution_count": null,
   "metadata": {},
   "outputs": [],
   "source": [
    "shape = ns_line_unrolled_data.shape\n",
    "inner_dim=65"
   ]
  },
  {
   "cell_type": "code",
   "execution_count": null,
   "metadata": {
    "scrolled": true
   },
   "outputs": [],
   "source": [
    "W_init = np.random.rand(shape[0], inner_dim).astype(np.float32)\n",
    "H_init = np.random.rand(inner_dim, shape[1]).astype(np.float32)\n",
    "\n",
    "ns_line_errors = compare_performance(V=ns_line_unrolled_data.astype(np.float32), \n",
    "                                     inner_dim=inner_dim, time_limit=1200,\n",
    "                                     W_init=W_init, H_init=H_init, \n",
    "                                     algo_dict_to_test=algo_dict_to_test)"
   ]
  },
  {
   "cell_type": "code",
   "execution_count": null,
   "metadata": {},
   "outputs": [],
   "source": [
    "pickle.dump(ns_line_errors,  open(\"ns_line_data_errors_dict.pkl\",\"wb\"))"
   ]
  },
  {
   "cell_type": "code",
   "execution_count": null,
   "metadata": {},
   "outputs": [],
   "source": []
  },
  {
   "cell_type": "code",
   "execution_count": null,
   "metadata": {},
   "outputs": [],
   "source": [
    "f, axs = plt.subplots(3, 2, figsize=(10, 14), gridspec_kw=dict(hspace=0.4, top=0.92, bottom=0.08))\n",
    "f.suptitle(\"ns_line{} factorization with inner_dim = {}\".format(ns_line_unrolled_data.shape, inner_dim))\n",
    "axs[0, 0].set_title(\"log(error)\")\n",
    "\n",
    "plot_errors_dict(ns_line_errors, axs[0, 0], log=True)\n",
    "plot_ratios_cpu_gpu(ns_line_errors, axs[0, 1])\n",
    "plot_ratios_cpu_algo(ns_line_errors, axs[1:, 0], selected_algs=[\"mult\", \"pgrad\", \"nesterov\"])\n",
    "plot_ratios_gpu_algo(ns_line_errors, axs[1:, 1], selected_algs=[\"mult_torch\", \"pgrad_torch\", \"nesterov_torch\"])"
   ]
  },
  {
   "cell_type": "code",
   "execution_count": null,
   "metadata": {},
   "outputs": [],
   "source": [
    "W_ns_line, H_ns_line = nmf.nesterov.factorize_Fnorm(\n",
    "    V=ns_line_unrolled_data.astype(np.float32), inner_dim=70, \n",
    "    time_limit=60, epsilon=1e-6, max_steps=10000)"
   ]
  },
  {
   "cell_type": "code",
   "execution_count": null,
   "metadata": {},
   "outputs": [],
   "source": [
    "InteractiveLandPlot(ns_line_gt_im, H_ns_line, ns_line_ori_shape)"
   ]
  },
  {
   "cell_type": "code",
   "execution_count": null,
   "metadata": {},
   "outputs": [],
   "source": []
  }
 ],
 "metadata": {
  "kernelspec": {
   "display_name": "Python 3",
   "language": "python",
   "name": "python3"
  },
  "language_info": {
   "codemirror_mode": {
    "name": "ipython",
    "version": 3
   },
   "file_extension": ".py",
   "mimetype": "text/x-python",
   "name": "python",
   "nbconvert_exporter": "python",
   "pygments_lexer": "ipython3",
   "version": "3.6.3"
  }
 },
 "nbformat": 4,
 "nbformat_minor": 2
}
