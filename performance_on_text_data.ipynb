{
 "cells": [
  {
   "cell_type": "markdown",
   "metadata": {},
   "source": [
    "Notebook which focuses on the text dataset and the performance comparison of algorithms on it"
   ]
  },
  {
   "cell_type": "code",
   "execution_count": null,
   "metadata": {},
   "outputs": [],
   "source": [
    "from IPython.core.display import display, HTML\n",
    "display(HTML('<style>.container {width:100% !important;}</style>'))"
   ]
  },
  {
   "cell_type": "code",
   "execution_count": null,
   "metadata": {},
   "outputs": [],
   "source": [
    "%matplotlib notebook\n",
    "import matplotlib.pyplot as plt \n",
    "import numpy as np\n",
    "import torch\n",
    "\n",
    "import nmf.mult\n",
    "import nmf.pgrad\n",
    "import nmf.nesterov\n",
    "\n",
    "import nmf_torch.mult\n",
    "import nmf_torch.pgrad\n",
    "import nmf_torch.nesterov\n",
    "import nmf_torch.norms\n",
    "\n",
    "import matplotlib\n",
    "import pickle\n",
    "\n",
    "from read_data.reading import read_reuters21578, HashTfidfVectoriser\n",
    "\n",
    "from performance.performance_eval_func import get_random_lowrank_matrix, get_time_ratio,\\\n",
    "                              compare_performance, plot_performance_dict,\\\n",
    "                              torch_algo_wrapper, plot_errors_dict,\\\n",
    "                              plot_ratios_gpu_algo, plot_ratios_cpu_gpu, plot_ratios_cpu_algo,\\\n",
    "                              plot_differences_gpu_algo, plot_differences_cpu_gpu, plot_differences_cpu_algo"
   ]
  },
  {
   "cell_type": "code",
   "execution_count": null,
   "metadata": {},
   "outputs": [],
   "source": [
    "vectorizer=HashTfidfVectoriser(12000)\n",
    "reuters_data = read_reuters21578(\"data/reuters21578\", vectorizer=vectorizer)"
   ]
  },
  {
   "cell_type": "code",
   "execution_count": null,
   "metadata": {},
   "outputs": [],
   "source": []
  },
  {
   "cell_type": "code",
   "execution_count": null,
   "metadata": {},
   "outputs": [],
   "source": [
    "algo_dict_to_test = {\n",
    "    \"mult\": nmf.mult.factorise_Fnorm,\n",
    "    \"pgrad\": nmf.pgrad.factorise_Fnorm_subproblems,\n",
    "    \"nesterov\": nmf.nesterov.factorise_Fnorm,\n",
    "\n",
    "    \"mult_torch\": torch_algo_wrapper(nmf_torch.mult.factorise_Fnorm, \n",
    "                                     device=\"cuda\"),\n",
    "    \"pgrad_torch\": torch_algo_wrapper(nmf_torch.pgrad.factorise_Fnorm_subproblems, \n",
    "                                      device=\"cuda\"),\n",
    "    \"nesterov_torch\": torch_algo_wrapper(nmf_torch.nesterov.factorise_Fnorm, \n",
    "                                        device=\"cuda\")\n",
    "}"
   ]
  },
  {
   "cell_type": "code",
   "execution_count": null,
   "metadata": {},
   "outputs": [],
   "source": []
  },
  {
   "cell_type": "markdown",
   "metadata": {},
   "source": [
    "# Performance evaluation"
   ]
  },
  {
   "cell_type": "code",
   "execution_count": null,
   "metadata": {},
   "outputs": [],
   "source": [
    "errors_dict = pickle.load(open(\"text_data_errors_dict.pkl\",\"rb\"))"
   ]
  },
  {
   "cell_type": "code",
   "execution_count": null,
   "metadata": {},
   "outputs": [],
   "source": [
    "inner_dim = 120\n",
    "shape = reuters_data.shape"
   ]
  },
  {
   "cell_type": "code",
   "execution_count": null,
   "metadata": {},
   "outputs": [],
   "source": [
    "W_init = np.random.rand(shape[0], inner_dim) * 0.001\n",
    "H_init = np.random.rand(inner_dim, shape[1]) * 0.001\n",
    "\n",
    "errors_dict = compare_performance(reuters_data.toarray(), \n",
    "                                  inner_dim, time_limit=1000,\n",
    "                                  W_init=W_init, H_init=H_init, \n",
    "                                  algo_dict_to_test=algo_dict_to_test)"
   ]
  },
  {
   "cell_type": "code",
   "execution_count": null,
   "metadata": {},
   "outputs": [],
   "source": [
    "pickle.dump(errors_dict,  open(\"text_data_errors_dict.pkl\",\"wb\"))"
   ]
  },
  {
   "cell_type": "markdown",
   "metadata": {},
   "source": [
    "## Graphs of time atio"
   ]
  },
  {
   "cell_type": "code",
   "execution_count": null,
   "metadata": {},
   "outputs": [],
   "source": [
    "nmbytes = 1975.52\n",
    "shape = (21578, 12000)\n",
    "inner_dim = 120"
   ]
  },
  {
   "cell_type": "code",
   "execution_count": null,
   "metadata": {},
   "outputs": [],
   "source": [
    "shape = reuters_data.shape\n",
    "inner_dim = 120\n",
    "nmbytes = reuters_data.toarray().nbytes / 2**20"
   ]
  },
  {
   "cell_type": "code",
   "execution_count": null,
   "metadata": {},
   "outputs": [],
   "source": []
  },
  {
   "cell_type": "code",
   "execution_count": null,
   "metadata": {},
   "outputs": [],
   "source": [
    "f, axes = plt.subplots(2, 2, figsize=(10, 10), \n",
    "                       gridspec_kw=gridspec_kw)\n",
    "\n",
    "\n",
    "\n",
    "\n",
    "f.suptitle(\"Text data represdented by {0} matrix, {2:.2f} MB \\n Factorization of size {1}\".format(shape, inner_dim,\n",
    "                                                                       nmbytes))\n",
    "\n",
    "\n",
    "plot_errors_dict(errors_dict, axes[0, 0], log=True, title=\"Cost function\", x_lbl=\"time [s]\")\n",
    "plot_ratios_cpu_gpu(errors_dict, axes[0, 1])\n",
    "plot_ratios_gpu_algo(errors_dict, axes[1, 0:], selected_algs=[\"mult_torch\", \"pgrad_torch\", \"nesterov_torch\"])\n",
    "\n",
    "axes[0, 1].set_title(\"CPU / GPU comparison\")\n",
    "axes[1, 0].set_title(\"multiplicative / gradient\\nalgorithms comparison\")\n",
    "axes[1, 1].set_title(\"Nesterov / projected\\n gradient algorithms comparison\")"
   ]
  },
  {
   "cell_type": "markdown",
   "metadata": {},
   "source": [
    "# Demonstration"
   ]
  },
  {
   "cell_type": "code",
   "execution_count": null,
   "metadata": {},
   "outputs": [],
   "source": [
    "W, H, errors = nmf.nesterov.factorise_Fnorm(reuters_data.toarray(), 120, max_steps=20,\n",
    "                                           epsilon=0, record_errors=True)"
   ]
  },
  {
   "cell_type": "code",
   "execution_count": null,
   "metadata": {
    "scrolled": true
   },
   "outputs": [],
   "source": [
    "for topic_id in range(H.shape[0]):\n",
    "    hashes = cols[topic_id, :3]\n",
    "    words = [\"({})\".format(\"|\".join(vectorizer.words_by_hash(h))) for h in hashes]\n",
    "    print(topic_id, *words)"
   ]
  },
  {
   "cell_type": "code",
   "execution_count": null,
   "metadata": {},
   "outputs": [],
   "source": []
  },
  {
   "cell_type": "code",
   "execution_count": null,
   "metadata": {},
   "outputs": [],
   "source": [
    "text_id_of_interest = 160\n",
    "text_vector_of_interest = W[text_id_of_interest, :]"
   ]
  },
  {
   "cell_type": "code",
   "execution_count": null,
   "metadata": {},
   "outputs": [],
   "source": [
    "idxs = np.argsort(np.linalg.norm(W[:, :] - text_vector_of_interest, axis=1))"
   ]
  },
  {
   "cell_type": "code",
   "execution_count": null,
   "metadata": {},
   "outputs": [],
   "source": [
    "print(\"Text corresponding to 160th row:\")\n",
    "print(vectorizer.last_data[idxs[0]])\n",
    "print()\n",
    "\n",
    "print(\"Text corresponding to the closest to the 160th row in the space of latent topic\")\n",
    "print(vectorizer.last_data[idxs[1]])\n",
    "print()\n",
    "\n",
    "print(\"Text corresponding to the second closest to the 160th row in the space of latent topic\")\n",
    "print(vectorizer.last_data[idxs[2]])\n",
    "print()"
   ]
  },
  {
   "cell_type": "code",
   "execution_count": null,
   "metadata": {},
   "outputs": [],
   "source": []
  },
  {
   "cell_type": "code",
   "execution_count": null,
   "metadata": {},
   "outputs": [],
   "source": []
  }
 ],
 "metadata": {
  "kernelspec": {
   "display_name": "Python 3",
   "language": "python",
   "name": "python3"
  },
  "language_info": {
   "codemirror_mode": {
    "name": "ipython",
    "version": 3
   },
   "file_extension": ".py",
   "mimetype": "text/x-python",
   "name": "python",
   "nbconvert_exporter": "python",
   "pygments_lexer": "ipython3",
   "version": "3.6.3"
  }
 },
 "nbformat": 4,
 "nbformat_minor": 2
}
