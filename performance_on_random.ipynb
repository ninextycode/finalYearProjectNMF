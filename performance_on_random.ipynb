{
 "cells": [
  {
   "cell_type": "code",
   "execution_count": 2,
   "metadata": {},
   "outputs": [],
   "source": [
    "%matplotlib notebook\n",
    "import matplotlib.pyplot as plt \n",
    "import numpy as np\n",
    "import torch\n",
    "\n",
    "import nmf.mult\n",
    "import nmf.pgrad\n",
    "import nmf.nesterov\n",
    "\n",
    "import nmf_torch.mult\n",
    "import nmf_torch.pgrad\n",
    "import nmf_torch.nesterov\n",
    "import nmf_torch.norms\n",
    "\n",
    "from performance.performance_eval_func import get_random_lowrank_matrix, get_time_ratio,\\\n",
    "                                              compare_performance, plot_performance,\\\n",
    "                                              torch_algo_wrapper"
   ]
  },
  {
   "cell_type": "code",
   "execution_count": null,
   "metadata": {},
   "outputs": [],
   "source": [
    "def errors_at_time_t_over_inner_dim(V, r_range, t, algo_dict):\n",
    "    for r in r_range:\n",
    "        W"
   ]
  }
 ],
 "metadata": {
  "kernelspec": {
   "display_name": "Python 3",
   "language": "python",
   "name": "python3"
  },
  "language_info": {
   "codemirror_mode": {
    "name": "ipython",
    "version": 3
   },
   "file_extension": ".py",
   "mimetype": "text/x-python",
   "name": "python",
   "nbconvert_exporter": "python",
   "pygments_lexer": "ipython3",
   "version": "3.6.7"
  }
 },
 "nbformat": 4,
 "nbformat_minor": 2
}
