{
 "cells": [
  {
   "cell_type": "code",
   "execution_count": 1,
   "metadata": {},
   "outputs": [],
   "source": [
    "%matplotlib notebook\n",
    "import matplotlib.pyplot as plt \n",
    "import numpy as np\n",
    "import torch\n",
    "from itertools import product\n",
    "\n",
    "import nmf.mult\n",
    "import nmf.pgrad\n",
    "import nmf.nesterov\n",
    "\n",
    "import nmf_torch.mult\n",
    "import nmf_torch.pgrad\n",
    "import nmf_torch.nesterov\n",
    "import nmf_torch.norms\n",
    "\n",
    "from performance.performance_eval_func import get_random_lowrank_matrix, get_time_ratio,\\\n",
    "                                              compare_performance, plot_performance_dict,\\\n",
    "                                              torch_algo_wrapper,\\\n",
    "                                              plot_ratios_gpu_algo, plot_ratios_cpu_gpu, plot_ratios_cpu_algo\n",
    "                                                "
   ]
  },
  {
   "cell_type": "code",
   "execution_count": 5,
   "metadata": {},
   "outputs": [],
   "source": [
    "def time_for_n_steps_over_inner_dim_data_size(r_list, shape_list, n, algo): \n",
    "    time_data = np.zeros((len(r_list), len(shape_list))) \n",
    "    \n",
    "    for r_i, r in enumerate(r_list):\n",
    "        for sh_i, shape in enumerate(shape_list):\n",
    "            V = get_random_lowrank_matrix(shape[0], r, shape[1])\n",
    "            W_init, H_init = nmf.mult.update_empty_initials(V, r, None, None)\n",
    "            W, H, errors = algo(V=V, inner_dim=r, \n",
    "                        record_errors=True,\n",
    "                        time_limit=np.inf,\n",
    "                        max_steps=n,\n",
    "                        epsilon=0,\n",
    "                        W_init=W_init.copy(),\n",
    "                        H_init=H_init.copy()) \n",
    "            time_data[r_i, sh_i] = errors[n-1, 0]\n",
    "\n",
    "    return time_data"
   ]
  },
  {
   "cell_type": "code",
   "execution_count": null,
   "metadata": {},
   "outputs": [],
   "source": []
  },
  {
   "cell_type": "code",
   "execution_count": 6,
   "metadata": {},
   "outputs": [],
   "source": [
    "algo_dict_to_test = {\n",
    "    \"mult\": nmf.mult.factorise_Fnorm,\n",
    "    \"pgrad\": nmf.pgrad.factorise_Fnorm_subproblems,\n",
    "    \"nesterov\": nmf.nesterov.factorise_Fnorm,\n",
    "\n",
    "    \"mult_torch\": torch_algo_wrapper(nmf_torch.mult.factorise_Fnorm, \n",
    "                                     device=\"cuda\"),\n",
    "    \"pgrad_torch\": torch_algo_wrapper(nmf_torch.pgrad.factorise_Fnorm_subproblems, \n",
    "                                      device=\"cuda\"),\n",
    "    \"nesterov_torch\": torch_algo_wrapper(nmf_torch.nesterov.factorise_Fnorm, \n",
    "                                        device=\"cuda\")\n",
    "}"
   ]
  },
  {
   "cell_type": "code",
   "execution_count": 6,
   "metadata": {},
   "outputs": [
    {
     "ename": "NameError",
     "evalue": "name 'errors_at_time_t_over_inner_dim' is not defined",
     "output_type": "error",
     "traceback": [
      "\u001b[0;31m---------------------------------------------------------------------------\u001b[0m",
      "\u001b[0;31mNameError\u001b[0m                                 Traceback (most recent call last)",
      "\u001b[0;32m<ipython-input-6-5782f0668427>\u001b[0m in \u001b[0;36m<module>\u001b[0;34m\u001b[0m\n\u001b[0;32m----> 1\u001b[0;31m errors_result = errors_at_time_t_over_inner_dim(V, [20, 25, 30, 35, 40, 45,\n\u001b[0m\u001b[1;32m      2\u001b[0m                                                     \u001b[0;36m50\u001b[0m\u001b[0;34m,\u001b[0m\u001b[0;34m\u001b[0m\u001b[0;34m\u001b[0m\u001b[0m\n\u001b[1;32m      3\u001b[0m                                                     55, 60, 65, 70, 75, 80, 85, 90],\n\u001b[1;32m      4\u001b[0m                                                 60, algo_dict_to_test)\n",
      "\u001b[0;31mNameError\u001b[0m: name 'errors_at_time_t_over_inner_dim' is not defined"
     ]
    }
   ],
   "source": [
    "errors_result = errors_at_time_t_over_inner_dim(V, [20, 25, 30, 35, 40, 45,\n",
    "                                                    50, \n",
    "                                                    55, 60, 65, 70, 75, 80, 85, 90],\n",
    "                                                60, algo_dict_to_test)"
   ]
  },
  {
   "cell_type": "code",
   "execution_count": null,
   "metadata": {
    "scrolled": false
   },
   "outputs": [],
   "source": [
    "f, ax = plt.subplots()\n",
    "plot_dict(errors_result, ax, log=False)\n",
    "f, ax = plt.subplots()\n",
    "plot_dict(errors_result, ax, log=True)"
   ]
  },
  {
   "cell_type": "code",
   "execution_count": 11,
   "metadata": {},
   "outputs": [],
   "source": []
  },
  {
   "cell_type": "code",
   "execution_count": 7,
   "metadata": {},
   "outputs": [
    {
     "data": {
      "text/plain": [
       "[(150, 30), (500, 100), (1500, 300), (5000, 1000)]"
      ]
     },
     "execution_count": 7,
     "metadata": {},
     "output_type": "execute_result"
    }
   ],
   "source": [
    "shapes = [(5 * a, a) for a in [30, 100, 300, 1000\n",
    "                               #, 3000\n",
    "                              ]]\n",
    "shapes"
   ]
  },
  {
   "cell_type": "code",
   "execution_count": 8,
   "metadata": {},
   "outputs": [
    {
     "data": {
      "text/plain": [
       "[3, 10, 30, 100]"
      ]
     },
     "execution_count": 8,
     "metadata": {},
     "output_type": "execute_result"
    }
   ],
   "source": [
    "inner_dims_small = [sh[1] // 10 for sh in shapes]\n",
    "inner_dims_small"
   ]
  },
  {
   "cell_type": "code",
   "execution_count": 9,
   "metadata": {},
   "outputs": [
    {
     "data": {
      "text/plain": [
       "[24, 80, 240, 800]"
      ]
     },
     "execution_count": 9,
     "metadata": {},
     "output_type": "execute_result"
    }
   ],
   "source": [
    "inner_dims_big = [8 * sh[1] // 10 for sh in shapes]\n",
    "inner_dims_big"
   ]
  },
  {
   "cell_type": "code",
   "execution_count": 10,
   "metadata": {},
   "outputs": [],
   "source": [
    "shapes_all = shapes + shapes\n",
    "inner_dims = inner_dims_small + inner_dims_big"
   ]
  },
  {
   "cell_type": "code",
   "execution_count": 11,
   "metadata": {},
   "outputs": [],
   "source": [
    "times = [5, 25, 125, 725] # + [5, 25, 125, 725]"
   ]
  },
  {
   "cell_type": "code",
   "execution_count": null,
   "metadata": {},
   "outputs": [],
   "source": [
    "errors_dict = {}"
   ]
  },
  {
   "cell_type": "code",
   "execution_count": null,
   "metadata": {},
   "outputs": [
    {
     "name": "stdout",
     "output_type": "stream",
     "text": [
      "100 (5000, 1000)\n"
     ]
    }
   ],
   "source": [
    "for inner_dim, shape, t  in zip(inner_dims, shapes_all, times):\n",
    "    if t != 725:\n",
    "        continue\n",
    "    \n",
    "    print(inner_dim, shape)\n",
    "    V = get_random_lowrank_matrix(shape[0], inner_dim, shape[1]) + np.random.rand(*shape) * 0.1\n",
    "\n",
    "    W_init = np.random.rand(shape[0], inner_dim)\n",
    "    H_init = np.random.rand(inner_dim, shape[1])\n",
    "\n",
    "    errors = compare_performance(V=V, inner_dim=inner_dim, time_limit=t,\n",
    "                                      W_init=W_init, H_init=H_init, \n",
    "                                      algo_dict_to_test=algo_dict_to_test)\n",
    "    errors_dict[(inner_dim, shape)] = errros\n",
    "    \n",
    "    f, axs = plt.subplots(2, 2)\n",
    "    f.suptitle(\"Factorising random data size {} with inner dim={}\".format(shape, inner_dim))\n",
    "    axs[0, 0].set_title(\"log(error)\")\n",
    "\n",
    "    plot_performance_dict(errors, axs[0, 0])\n",
    "    plot_ratios_cpu_gpu(errors, axs[0, 1])\n",
    "    plot_ratios_cpu_algo(errors, axs[1, 0])\n",
    "    plot_ratios_gpu_algo(errors, axs[1, 1])\n",
    "    \n",
    "    break"
   ]
  },
  {
   "cell_type": "code",
   "execution_count": 13,
   "metadata": {},
   "outputs": [
    {
     "data": {
      "text/plain": [
       "{}"
      ]
     },
     "execution_count": 13,
     "metadata": {},
     "output_type": "execute_result"
    }
   ],
   "source": [
    "errors_dict"
   ]
  },
  {
   "cell_type": "code",
   "execution_count": null,
   "metadata": {},
   "outputs": [],
   "source": [
    "def plot_comparison(errors_dict, ax_grid):\n",
    "    plot_performance_dict(errors_dict, ax_grid[0, 0])\n",
    "    ax_grid[0, 0].xlabel(\"time[s]\")\n",
    "    ax_grid[0, 0].ylabel(\"log(error)\")\n",
    "    \n",
    "    plot_ratios_cpu_gpu(errors_dict, ax_grid[0, 1])\n",
    "    plot_ratios_cpu_algo(errors_dict, ax_grid[1, 0])\n",
    "    plot_ratios_gpu_algo(errors_dict, ax_grid[1, 1])\n",
    "   "
   ]
  }
 ],
 "metadata": {
  "kernelspec": {
   "display_name": "Python 3",
   "language": "python",
   "name": "python3"
  },
  "language_info": {
   "codemirror_mode": {
    "name": "ipython",
    "version": 3
   },
   "file_extension": ".py",
   "mimetype": "text/x-python",
   "name": "python",
   "nbconvert_exporter": "python",
   "pygments_lexer": "ipython3",
   "version": "3.6.7"
  }
 },
 "nbformat": 4,
 "nbformat_minor": 2
}
